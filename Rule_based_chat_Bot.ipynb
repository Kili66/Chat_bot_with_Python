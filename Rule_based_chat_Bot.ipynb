{
  "nbformat": 4,
  "nbformat_minor": 0,
  "metadata": {
    "colab": {
      "provenance": []
    },
    "kernelspec": {
      "name": "python3",
      "display_name": "Python 3"
    },
    "language_info": {
      "name": "python"
    }
  },
  "cells": [
    {
      "cell_type": "code",
      "execution_count": 1,
      "metadata": {
        "id": "RKL0l-WaFTlp"
      },
      "outputs": [],
      "source": [
        "import re\n",
        "import random"
      ]
    },
    {
      "cell_type": "code",
      "source": [
        "class RuleBot:\n",
        "\n",
        "    #potential negative responses\n",
        "    negative_responses=(\"no\", \"nope\", \"nah\", \"naw\", \"not a chance\", \"sorry\" )\n",
        "    #exit conversation keywords\n",
        "    exit_commands= (\"quit\", \"pause\", \"exit\", \"goodbye\", \"bye\", \"later\")\n",
        "    # Random starter questions\n",
        "    random_questions= (\n",
        "        \"Why are you here?\",\n",
        "        \"Are there any humans like you?\",\n",
        "        \"What do you like that\",\n",
        "        \"Is there intelligent life on this planet?\",\n",
        "        \"Does earth have a leader?\",\n",
        "        \"What planets have you visited\",\n",
        "        \"What technology do you have on this planet?\",\n",
        "        \"why self_development interest you?\",\n",
        "        \"Is AI is changing your life?\"\n",
        "    ) \n",
        "\n",
        "    def __init__(self):\n",
        "        self.mariam= {\n",
        "            'describe_planet_intent': r'.*\\s*your planet.*',\n",
        "            'answer_why_intent': r'why\\sare.*',\n",
        "            'about_techgirl': r'.*\\s*techgirl',\n",
        "            'self_development': r'.*\\s*self_development.*',\n",
        "            'technology': r'.*\\s*technology'\n",
        "\n",
        "        }\n",
        "    def greet(self):\n",
        "        self.name= input(\" What is your name?\\n\")\n",
        "        will_help= input(\n",
        "            f\"Hi {self.name}, i am Rule-Bot. Will you help me learn about your point of interest?\\n\")\n",
        "        \n",
        "        if will_help in self.negative_responses:\n",
        "            print(\"OK, have a nice Learning day!\")\n",
        "        return self.chat()\n",
        "    \n",
        "    def make_exit(self, reply):\n",
        "        for command in self.exit_commands:\n",
        "            if reply==command:\n",
        "                print(\"Okay, Have a nice Learning day!\")\n",
        "                return True\n",
        "        \n",
        "    def chat(self):\n",
        "        reply= input(random.choice(self.random_questions)).lower()\n",
        "        while not self.make_exit(reply):\n",
        "            reply= input(self.match_reply(reply))\n",
        "\n",
        "    def match_reply(self, reply):\n",
        "        for key, value in self.mariam.items():\n",
        "            intent= key\n",
        "            regex_pattern= value\n",
        "            found_match= re.match(regex_pattern, reply)\n",
        "            if found_match and intent=='describe_planet_intent':\n",
        "                return self.describe_planet_intent()\n",
        "            elif found_match and intent=='answer_why_intent':\n",
        "                return self.answer_why_intent()\n",
        "            elif found_match and intent=='about_techgirl':\n",
        "                return self.about_techgirl()\n",
        "            elif found_match and intent=='self_development':\n",
        "                return self.self_development()\n",
        "            elif found_match and intent=='technology':\n",
        "                return self.technology()\n",
        "        if not found_match:\n",
        "            return self.no_match_intent()\n",
        "    def describe_planet_intent(self):\n",
        "         responses= (\"My planet is Utopia of diverse organisms and species.\\n\",\n",
        "                     \"I am from Opidipus, the capital of the Mayward galaxies.\\n\")\n",
        "         return random.choice(responses)\n",
        "    def answer_why_intent(self):\n",
        "        responses= (\"I core in peace\\n\", \"I am here to collect data on your planet and its inhabitansts\\n\",\n",
        "                    \"I heard the coffee is good\\n\")\n",
        "        return random.choice(responses)\n",
        "    def about_techgirl(self):\n",
        "        responses=(\"techgirl is a small profesional educational company\\n\", \"Personal dev skills that help us increase our chances of success, achieving our goals, and manifesting our dreams.\\n\",\n",
        "                   \"Techgirl is where your personal confidence and your knowledge grows\\n\")\n",
        "        return random.choice(responses)\n",
        "    def self_development(self):\n",
        "        responses=(\"Self development is simply the process of learning new things and building new skills\\n\", \"Techgirl will help you learn about technology and self development in the way you never learn before\\n\",\n",
        "                   \"Want to improve your life?, develop your skills and work on yourself everyday\\n\")\n",
        "        return random.choice(responses)\n",
        "    def technology(self):\n",
        "        responses=(\"Technology is the application of knowledge for achieving practical goals in a reproducible way.\\n\", \"The word technology can also mean the products resulting from such efforts, including both tangible tools such as utensils or machines, and intangible ones such as software.\\n\",\n",
        "                   \"technology, the application of scientific knowledge to the practical aims of human life or, as it is sometimes phrased, to the change and manipulation of the human environment.\\n\")\n",
        "        return random.choice(responses)\n",
        "    def no_match_intent(self):\n",
        "        responses = (\n",
        "            'Please tell me more.\\n', 'tell me more\\n','Why do you say that?\\n', 'I see. can you elaborate?\\n',\n",
        "            'Interesting. Can you tell me more?', 'I see. How do you think?\\n', 'why\\n',\n",
        "            'How do you think i feel when you say that?\\n')\n",
        "        return random.choice(responses)\n",
        "    \n",
        "Mari= RuleBot()\n",
        "\n",
        "Mari.greet()\n"
      ],
      "metadata": {
        "id": "UxQYb_61FWg3",
        "colab": {
          "base_uri": "https://localhost:8080/"
        },
        "outputId": "aac21b83-ef09-4e84-d7d4-c0156e7c26e5"
      },
      "execution_count": 2,
      "outputs": [
        {
          "output_type": "stream",
          "name": "stdout",
          "text": [
            " What is your name?\n",
            "Mariam\n",
            "Hi Mariam, i am Rule-Bot. Will you help me learn about your point of interest?\n",
            "AI\n",
            "What planets have you visitedArtificial Intelligence\n",
            "How do you think i feel when you say that?\n",
            "you are ok\n",
            "How do you think i feel when you say that?\n",
            "i dont know\n",
            "I see. How do you think?\n",
            "positieve\n",
            "tell me more\n",
            "what is techgirl\n",
            "Personal dev skills that help us increase our chances of success, achieving our goals, and manifesting our dreams.\n",
            "techgirl\n",
            "Techgirl is where your personal confidence and your knowledge grows\n",
            "self develepment\n",
            "why\n",
            "self_development\n",
            "Want to improve your life?, develop your skills and work on yourself everyday\n",
            "tecnology\n",
            "why\n",
            "technology\n",
            "Technology is the application of knowledge for achieving practical goals in a reproducible way.\n",
            "ok\n",
            "How do you think i feel when you say that?\n",
            "exit\n",
            "Okay, Have a nice Learning day!\n"
          ]
        }
      ]
    },
    {
      "cell_type": "code",
      "source": [],
      "metadata": {
        "id": "m1SaIog2U58Z"
      },
      "execution_count": null,
      "outputs": []
    }
  ]
}